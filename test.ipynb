{
 "cells": [
  {
   "attachments": {},
   "cell_type": "markdown",
   "metadata": {},
   "source": [
    "# PART 1"
   ]
  },
  {
   "attachments": {},
   "cell_type": "markdown",
   "metadata": {},
   "source": [
    "1.1:"
   ]
  },
  {
   "attachments": {},
   "cell_type": "markdown",
   "metadata": {},
   "source": [
    "\n",
    "Thay vì sử dụng PIVOT trên SQL, nên để công việc đó cho các tool BI và Analytic khác, để đảm bảo tối ưu. Vì thế tôi sẽ chỉ sử dụng left join để tạo 1 bảng master data cơ bảng cho mục đích của cả 2 báo cáo theo đề bài.//\n",
    "\n",
    "```sql\n",
    "\n",
    "SELECT \n",
    "    date, \n",
    "    s.name as site_name , \n",
    "    p.sku, \n",
    "    p.name as product_name, \n",
    "    c.name as cate_name,\n",
    "    c.level as cate_level,\n",
    "    i.stock as quantity,\n",
    "    (i.stock * p.cost_perunit) as amount\n",
    "\n",
    "FROM inventory i\n",
    "\n",
    "LEFT JOIN product p ON p.id = i.product_id\n",
    "LEFT JOIN category c ON c.id = p.cat_id\n",
    "LEFT JOIN site s on s.id = i.site_id\n",
    "\n",
    "```"
   ]
  },
  {
   "attachments": {},
   "cell_type": "markdown",
   "metadata": {},
   "source": [
    "1.2. Bạn có gợi ý gì để cải thiện các chỉ số cần theo dõi nhằm phục vụ mục tiêu quản lý tồn kho\n",
    "một cách hợp lý hay không? Nếu có hãy đưa ra khái niệm, định nghĩa và cách tính chỉ số\n",
    "bạn đề xuất"
   ]
  },
  {
   "attachments": {},
   "cell_type": "markdown",
   "metadata": {},
   "source": [
    "\n",
    "> - Nên áp dụng thêm chỉ số vòng quay tồn để có cái nhìn khái quát về số lượng tồn kho của sản phẩm so với thị trường cũng như trường hợp giá trị tồn kho đang quá cao:\n",
    "\\begin{gather*}\n",
    " Vòng quay hàng tồn kho = Giá vốn hàng bán / Hàng tồn kho bình quân\n",
    "\\end{gather*}\n",
    "> - Giá vốn hàng hóa thường không cố định theo thời gian, nên cần phải ghi nhận giá vốn sản phẩm theo từng giai đoạn (có thể tính giá vốn bình quan theo tháng)"
   ]
  },
  {
   "attachments": {},
   "cell_type": "markdown",
   "metadata": {},
   "source": [
    "# PART 2"
   ]
  },
  {
   "attachments": {},
   "cell_type": "markdown",
   "metadata": {},
   "source": [
    "### 2.1 - 2.3"
   ]
  },
  {
   "attachments": {},
   "cell_type": "markdown",
   "metadata": {},
   "source": [
    "Các thông tin mà bản thân giám đốc kinh doanh và stakeholders sẽ phải cần được cung cấp để ra quyết định liên quan đến mục tiêu tăng trưởng doanh số như:\n",
    "- Sản phẩm nào đang được bán chạy/ bán không tốt - Đặt biệt đối với PV tôi nghĩ ta nên quan tâm đến khía cạnh những sản phẩm nào có hay được mua kèm với nhau.\n",
    "- So với với cùng kì, doánh số hiện tại như thế nào.\n",
    "- Tình trạng kinh doanh ở các cửa hàng.\n",
    "- Số lượng tồn và dự đoán khả năng đáp ứng nhu cầu thị trường.\n",
    "- Các chương trình giảm giá/khuyến mãi ảnh hưởng thế nào đến doanh vào những giai đoạn xẩy ra những sự kiện đó\n",
    "- Mức độ nhạy cảm của Nhóm hàng và Sản phẩm với giá (một số sản phẩm tăng mạnh doanh thu khi được giảm giá hơn so với các sản phẩm khác)\n",
    "- Nếu có data của đối thủ/thị trường --> nhận biết được vị trí của doanh nghiệp ở thị trường như thế nào (đối với 1 sản phẩm hoặc nhóm hàng).\n",
    "- Trong dài hạn, Đâu là nhóm KH sẽ mang đến nhiều doanh số ( cũ hay mới,...)\n",
    "\n",
    "Từ đố các chỉ số cần phải quan tâm là:\n",
    ">- Doanh số/ Sô lượng từng sản phẩm bán ra, theo store và ngày.\n",
    ">- Mức độ tăng trưởng Doanh số so với cùng kì ( tháng, năm).\n",
    ">- Tỉ trọng Doanh số theo Product/Category. Store, Đối tượng Khách hàng.\n",
    ">- Tiền giảm hoặc chiết khấu mỗi đơn hàng/Sản phẩm.\n",
    ">- Tình hình kinh doanh của các đối thủ lớn trên thị trường (nếu có)."
   ]
  },
  {
   "attachments": {},
   "cell_type": "markdown",
   "metadata": {},
   "source": [
    "2.4. Bạn hãy xây dựng data model (star schema) để giúp xây dựng được báo cáo trên?"
   ]
  },
  {
   "attachments": {},
   "cell_type": "markdown",
   "metadata": {},
   "source": [
    "<img src=\"scr.png\" width=870 height=500 />"
   ]
  }
 ],
 "metadata": {
  "language_info": {
   "name": "python"
  },
  "orig_nbformat": 4
 },
 "nbformat": 4,
 "nbformat_minor": 2
}
